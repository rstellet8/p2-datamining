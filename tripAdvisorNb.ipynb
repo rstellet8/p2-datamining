{
 "metadata": {
  "language_info": {
   "codemirror_mode": {
    "name": "ipython",
    "version": 3
   },
   "file_extension": ".py",
   "mimetype": "text/x-python",
   "name": "python",
   "nbconvert_exporter": "python",
   "pygments_lexer": "ipython3",
   "version": "3.8.8"
  },
  "orig_nbformat": 4,
  "kernelspec": {
   "name": "python3",
   "display_name": "Python 3.8.8 64-bit"
  },
  "interpreter": {
   "hash": "28419c31780562def9a152d929746b465d0e2a100b5f6fc71845e0263b206921"
  }
 },
 "nbformat": 4,
 "nbformat_minor": 2,
 "cells": [
  {
   "cell_type": "code",
   "execution_count": 1,
   "metadata": {},
   "outputs": [],
   "source": [
    "import pandas as pd"
   ]
  },
  {
   "cell_type": "code",
   "execution_count": 2,
   "metadata": {},
   "outputs": [
    {
     "output_type": "stream",
     "name": "stderr",
     "text": [
      "C:\\Users\\Renan\\AppData\\Local\\Programs\\Python\\Python38\\lib\\site-packages\\IPython\\core\\interactiveshell.py:3071: DtypeWarning: Columns (4) have mixed types.Specify dtype option on import or set low_memory=False.\n  has_raised = await self.run_ast_nodes(code_ast.body, cell_name,\n"
     ]
    },
    {
     "output_type": "execute_result",
     "data": {
      "text/plain": [
       "       restaurant_link       restaurant_name  \\\n",
       "0  g10001637-d10002227                Le 147   \n",
       "1  g10001637-d14975787      Le Saint Jouvent   \n",
       "2   g10002858-d4586832       Au Bout du Pont   \n",
       "3   g10002986-d3510044   Le Relais de Naiade   \n",
       "4   g10022428-d9767191  Relais Du MontSeigne   \n",
       "\n",
       "                                   original_location country  \\\n",
       "0  [\"Europe\", \"France\", \"Nouvelle-Aquitaine\", \"Ha...  France   \n",
       "1  [\"Europe\", \"France\", \"Nouvelle-Aquitaine\", \"Ha...  France   \n",
       "2  [\"Europe\", \"France\", \"Centre-Val de Loire\", \"B...  France   \n",
       "3  [\"Europe\", \"France\", \"Nouvelle-Aquitaine\", \"Co...  France   \n",
       "4  [\"Europe\", \"France\", \"Occitanie\", \"Aveyron\", \"...  France   \n",
       "\n",
       "                region      province                      city  \\\n",
       "0   Nouvelle-Aquitaine  Haute-Vienne             Saint-Jouvent   \n",
       "1   Nouvelle-Aquitaine  Haute-Vienne             Saint-Jouvent   \n",
       "2  Centre-Val de Loire         Berry                Rivarennes   \n",
       "3   Nouvelle-Aquitaine       Correze                   Lacelle   \n",
       "4            Occitanie       Aveyron  Saint-Laurent-de-Levezou   \n",
       "\n",
       "                                             address   latitude  longitude  \\\n",
       "0        10 Maison Neuve, 87510 Saint-Jouvent France  45.961674   1.169131   \n",
       "1   16 Place de l Eglise, 87510 Saint-Jouvent France  45.957040   1.205480   \n",
       "2           2 rue des Dames, 36800 Rivarennes France  46.635895   1.386133   \n",
       "3  9 avenue Porte de la Correze 19170, 19170 Lace...  45.642610   1.824460   \n",
       "4  route du Montseigne, 12620 Saint-Laurent-de-Le...  44.208860   2.960470   \n",
       "\n",
       "   ... excellent very_good average poor terrible food service value  \\\n",
       "0  ...       2.0       0.0     0.0  0.0      0.0  4.0     4.5   4.0   \n",
       "1  ...       2.0       2.0     1.0  0.0      0.0  NaN     NaN   NaN   \n",
       "2  ...       3.0       1.0     0.0  0.0      0.0  NaN     NaN   NaN   \n",
       "3  ...       1.0       0.0     0.0  0.0      0.0  4.5     4.5   4.5   \n",
       "4  ...       4.0       7.0     0.0  0.0      0.0  4.5     4.5   4.5   \n",
       "\n",
       "  atmosphere keywords  \n",
       "0        NaN      NaN  \n",
       "1        NaN      NaN  \n",
       "2        NaN      NaN  \n",
       "3        NaN      NaN  \n",
       "4        NaN      NaN  \n",
       "\n",
       "[5 rows x 42 columns]"
      ],
      "text/html": "<div>\n<style scoped>\n    .dataframe tbody tr th:only-of-type {\n        vertical-align: middle;\n    }\n\n    .dataframe tbody tr th {\n        vertical-align: top;\n    }\n\n    .dataframe thead th {\n        text-align: right;\n    }\n</style>\n<table border=\"1\" class=\"dataframe\">\n  <thead>\n    <tr style=\"text-align: right;\">\n      <th></th>\n      <th>restaurant_link</th>\n      <th>restaurant_name</th>\n      <th>original_location</th>\n      <th>country</th>\n      <th>region</th>\n      <th>province</th>\n      <th>city</th>\n      <th>address</th>\n      <th>latitude</th>\n      <th>longitude</th>\n      <th>...</th>\n      <th>excellent</th>\n      <th>very_good</th>\n      <th>average</th>\n      <th>poor</th>\n      <th>terrible</th>\n      <th>food</th>\n      <th>service</th>\n      <th>value</th>\n      <th>atmosphere</th>\n      <th>keywords</th>\n    </tr>\n  </thead>\n  <tbody>\n    <tr>\n      <th>0</th>\n      <td>g10001637-d10002227</td>\n      <td>Le 147</td>\n      <td>[\"Europe\", \"France\", \"Nouvelle-Aquitaine\", \"Ha...</td>\n      <td>France</td>\n      <td>Nouvelle-Aquitaine</td>\n      <td>Haute-Vienne</td>\n      <td>Saint-Jouvent</td>\n      <td>10 Maison Neuve, 87510 Saint-Jouvent France</td>\n      <td>45.961674</td>\n      <td>1.169131</td>\n      <td>...</td>\n      <td>2.0</td>\n      <td>0.0</td>\n      <td>0.0</td>\n      <td>0.0</td>\n      <td>0.0</td>\n      <td>4.0</td>\n      <td>4.5</td>\n      <td>4.0</td>\n      <td>NaN</td>\n      <td>NaN</td>\n    </tr>\n    <tr>\n      <th>1</th>\n      <td>g10001637-d14975787</td>\n      <td>Le Saint Jouvent</td>\n      <td>[\"Europe\", \"France\", \"Nouvelle-Aquitaine\", \"Ha...</td>\n      <td>France</td>\n      <td>Nouvelle-Aquitaine</td>\n      <td>Haute-Vienne</td>\n      <td>Saint-Jouvent</td>\n      <td>16 Place de l Eglise, 87510 Saint-Jouvent France</td>\n      <td>45.957040</td>\n      <td>1.205480</td>\n      <td>...</td>\n      <td>2.0</td>\n      <td>2.0</td>\n      <td>1.0</td>\n      <td>0.0</td>\n      <td>0.0</td>\n      <td>NaN</td>\n      <td>NaN</td>\n      <td>NaN</td>\n      <td>NaN</td>\n      <td>NaN</td>\n    </tr>\n    <tr>\n      <th>2</th>\n      <td>g10002858-d4586832</td>\n      <td>Au Bout du Pont</td>\n      <td>[\"Europe\", \"France\", \"Centre-Val de Loire\", \"B...</td>\n      <td>France</td>\n      <td>Centre-Val de Loire</td>\n      <td>Berry</td>\n      <td>Rivarennes</td>\n      <td>2 rue des Dames, 36800 Rivarennes France</td>\n      <td>46.635895</td>\n      <td>1.386133</td>\n      <td>...</td>\n      <td>3.0</td>\n      <td>1.0</td>\n      <td>0.0</td>\n      <td>0.0</td>\n      <td>0.0</td>\n      <td>NaN</td>\n      <td>NaN</td>\n      <td>NaN</td>\n      <td>NaN</td>\n      <td>NaN</td>\n    </tr>\n    <tr>\n      <th>3</th>\n      <td>g10002986-d3510044</td>\n      <td>Le Relais de Naiade</td>\n      <td>[\"Europe\", \"France\", \"Nouvelle-Aquitaine\", \"Co...</td>\n      <td>France</td>\n      <td>Nouvelle-Aquitaine</td>\n      <td>Correze</td>\n      <td>Lacelle</td>\n      <td>9 avenue Porte de la Correze 19170, 19170 Lace...</td>\n      <td>45.642610</td>\n      <td>1.824460</td>\n      <td>...</td>\n      <td>1.0</td>\n      <td>0.0</td>\n      <td>0.0</td>\n      <td>0.0</td>\n      <td>0.0</td>\n      <td>4.5</td>\n      <td>4.5</td>\n      <td>4.5</td>\n      <td>NaN</td>\n      <td>NaN</td>\n    </tr>\n    <tr>\n      <th>4</th>\n      <td>g10022428-d9767191</td>\n      <td>Relais Du MontSeigne</td>\n      <td>[\"Europe\", \"France\", \"Occitanie\", \"Aveyron\", \"...</td>\n      <td>France</td>\n      <td>Occitanie</td>\n      <td>Aveyron</td>\n      <td>Saint-Laurent-de-Levezou</td>\n      <td>route du Montseigne, 12620 Saint-Laurent-de-Le...</td>\n      <td>44.208860</td>\n      <td>2.960470</td>\n      <td>...</td>\n      <td>4.0</td>\n      <td>7.0</td>\n      <td>0.0</td>\n      <td>0.0</td>\n      <td>0.0</td>\n      <td>4.5</td>\n      <td>4.5</td>\n      <td>4.5</td>\n      <td>NaN</td>\n      <td>NaN</td>\n    </tr>\n  </tbody>\n</table>\n<p>5 rows × 42 columns</p>\n</div>"
     },
     "metadata": {},
     "execution_count": 2
    }
   ],
   "source": [
    "dados = pd.read_csv(\"dados/tripAdvisor/tripadvisor_european_restaurants.csv\")\n",
    "dados.head()"
   ]
  },
  {
   "cell_type": "code",
   "execution_count": 3,
   "metadata": {},
   "outputs": [
    {
     "output_type": "stream",
     "name": "stdout",
     "text": [
      "<class 'pandas.core.frame.DataFrame'>\nRangeIndex: 1083397 entries, 0 to 1083396\nData columns (total 42 columns):\n #   Column                             Non-Null Count    Dtype  \n---  ------                             --------------    -----  \n 0   restaurant_link                    1083397 non-null  object \n 1   restaurant_name                    1083397 non-null  object \n 2   original_location                  1083397 non-null  object \n 3   country                            1083397 non-null  object \n 4   region                             1033074 non-null  object \n 5   province                           742765 non-null   object \n 6   city                               682712 non-null   object \n 7   address                            1083397 non-null  object \n 8   latitude                           1067607 non-null  float64\n 9   longitude                          1067607 non-null  float64\n 10  claimed                            1081555 non-null  object \n 11  awards                             263133 non-null   object \n 12  popularity_detailed                988409 non-null   object \n 13  popularity_generic                 985605 non-null   object \n 14  top_tags                           972763 non-null   object \n 15  price_level                        806192 non-null   object \n 16  price_range                        304327 non-null   object \n 17  meals                              635347 non-null   object \n 18  cuisines                           914294 non-null   object \n 19  special_diets                      340256 non-null   object \n 20  features                           317407 non-null   object \n 21  vegetarian_friendly                1083397 non-null  object \n 22  vegan_options                      1083397 non-null  object \n 23  gluten_free                        1083397 non-null  object \n 24  original_open_hours                593832 non-null   object \n 25  open_days_per_week                 593832 non-null   float64\n 26  open_hours_per_week                593832 non-null   float64\n 27  working_shifts_per_week            593832 non-null   float64\n 28  avg_rating                         986761 non-null   float64\n 29  total_reviews_count                1031162 non-null  float64\n 30  default_language                   988204 non-null   object \n 31  reviews_count_in_default_language  988204 non-null   float64\n 32  excellent                          988204 non-null   float64\n 33  very_good                          988204 non-null   float64\n 34  average                            988204 non-null   float64\n 35  poor                               988204 non-null   float64\n 36  terrible                           988204 non-null   float64\n 37  food                               599325 non-null   float64\n 38  service                            604287 non-null   float64\n 39  value                              602692 non-null   float64\n 40  atmosphere                         261785 non-null   float64\n 41  keywords                           99198 non-null    object \ndtypes: float64(17), object(25)\nmemory usage: 347.2+ MB\n"
     ]
    }
   ],
   "source": [
    "dados.info()"
   ]
  },
  {
   "cell_type": "code",
   "execution_count": 5,
   "metadata": {},
   "outputs": [
    {
     "output_type": "execute_result",
     "data": {
      "text/plain": [
       "0          4.0\n",
       "3          4.5\n",
       "4          4.5\n",
       "5          4.5\n",
       "6          4.5\n",
       "          ... \n",
       "1083381    3.5\n",
       "1083384    5.0\n",
       "1083387    3.5\n",
       "1083388    4.5\n",
       "1083389    4.0\n",
       "Name: value, Length: 602692, dtype: float64"
      ]
     },
     "metadata": {},
     "execution_count": 5
    }
   ],
   "source": [
    "dados[\"value\"].dropna()"
   ]
  },
  {
   "cell_type": "code",
   "execution_count": null,
   "metadata": {},
   "outputs": [],
   "source": []
  }
 ]
}